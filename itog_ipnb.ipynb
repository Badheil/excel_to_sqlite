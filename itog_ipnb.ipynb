{
 "cells": [
  {
   "cell_type": "code",
   "execution_count": 2,
   "metadata": {},
   "outputs": [],
   "source": [
    "import pandas as pd\n",
    "import sqlite3"
   ]
  },
  {
   "cell_type": "code",
   "execution_count": 3,
   "metadata": {},
   "outputs": [],
   "source": [
    "xlss = pd.ExcelFile('техническое задание (1).xlsx')"
   ]
  },
  {
   "cell_type": "code",
   "execution_count": 4,
   "metadata": {},
   "outputs": [],
   "source": [
    "#собирает названия листов с 'Таб_'\n",
    "sheet_names = [name for name in xlss.sheet_names if name.startswith('Таб_')]"
   ]
  },
  {
   "cell_type": "code",
   "execution_count": 5,
   "metadata": {},
   "outputs": [],
   "source": [
    "#словарь для хранения DataFrame'ов\n",
    "dfs = {}"
   ]
  },
  {
   "cell_type": "code",
   "execution_count": 6,
   "metadata": {},
   "outputs": [],
   "source": [
    "#записал датафреймы в словарь\n",
    "for num, sheet in enumerate(sheet_names):\n",
    "    dfs[num] = pd.read_excel(xlss,sheet_name=f'{sheet}', header=None)"
   ]
  },
  {
   "cell_type": "code",
   "execution_count": 7,
   "metadata": {},
   "outputs": [],
   "source": [
    "#удалил лишние столбцы\n",
    "for k, v in dfs.items():\n",
    "    v.drop(labels=[9, 10, 11], axis=1, inplace=True)\n",
    "    "
   ]
  },
  {
   "cell_type": "code",
   "execution_count": 8,
   "metadata": {},
   "outputs": [],
   "source": [
    "#удалил лишние строки вначале и строку в конце\n",
    "for k, v in dfs.items():\n",
    "    v.drop(index=[0,1,2,101], inplace=True)"
   ]
  },
  {
   "cell_type": "code",
   "execution_count": 9,
   "metadata": {},
   "outputs": [],
   "source": [
    "#сбросил индекс\n",
    "for k, v in dfs.items():\n",
    "    v.reset_index(drop=True,inplace=True)"
   ]
  },
  {
   "cell_type": "code",
   "execution_count": 10,
   "metadata": {},
   "outputs": [
    {
     "name": "stderr",
     "output_type": "stream",
     "text": [
      "C:\\Users\\dimog\\AppData\\Local\\Temp\\ipykernel_16584\\3409103984.py:3: FutureWarning: Series.fillna with 'method' is deprecated and will raise in a future version. Use obj.ffill() or obj.bfill() instead.\n",
      "  v.loc[0].fillna(method='ffill',axis=0,inplace=True)\n"
     ]
    }
   ],
   "source": [
    "#заполнил строку с месяцами значениями из предыдущей колонки\n",
    "for k, v in dfs.items():\n",
    "    v.loc[0].fillna(method='ffill',axis=0,inplace=True)"
   ]
  },
  {
   "cell_type": "code",
   "execution_count": 11,
   "metadata": {},
   "outputs": [],
   "source": [
    "# получил данные для преобразования\n",
    "month_year =[]\n",
    "regions=[]\n",
    "data=[]\n",
    "pop=[]\n",
    "population_types=[]\n",
    "for k, v in dfs.items():\n",
    "    month_year.append(v.iloc[0, 1:].values.tolist())\n",
    "    regions.append(v.iloc[2:, 0].values.tolist())\n",
    "    data.append(v.iloc[2:, 1:].values.tolist())\n",
    "\n",
    "    pop.append(v.iloc[1, 1:].values.tolist())\n",
    "    \n",
    "    #избавился от лишних пробелов в типе поселения\n",
    "    population_types.append([' '.join(x.split()) for x in pop[k]])\n"
   ]
  },
  {
   "cell_type": "code",
   "execution_count": 12,
   "metadata": {},
   "outputs": [],
   "source": [
    "#исправил название столбца\n",
    "population_types[0][4] = 'Городское население'"
   ]
  },
  {
   "cell_type": "code",
   "execution_count": 13,
   "metadata": {},
   "outputs": [],
   "source": [
    "# убрал лишние строки из начала фрейма и обновил индекс\n",
    "for k, v in dfs.items():\n",
    "    v.drop(index=[0,1], inplace=True)\n",
    "    v.reset_index(drop=True,inplace=True)"
   ]
  },
  {
   "cell_type": "code",
   "execution_count": 14,
   "metadata": {},
   "outputs": [],
   "source": [
    "# словарь для преобразования названия месяца в число\n",
    "month_dict = {\n",
    "        'январь': 1,\n",
    "        'февраль': 2,\n",
    "        'март': 3,\n",
    "        'апрель': 4,\n",
    "        'май': 5,\n",
    "        'июнь': 6,\n",
    "        'июль': 7,\n",
    "        'август': 8,\n",
    "        'сентябрь': 9,\n",
    "        'октябрь': 10,\n",
    "        'ноябрь': 11,\n",
    "        'декабрь': 12\n",
    "    }"
   ]
  },
  {
   "cell_type": "code",
   "execution_count": 15,
   "metadata": {},
   "outputs": [
    {
     "name": "stderr",
     "output_type": "stream",
     "text": [
      "C:\\Users\\dimog\\AppData\\Local\\Temp\\ipykernel_16584\\4158762248.py:34: FutureWarning: The behavior of DataFrame concatenation with empty or all-NA entries is deprecated. In a future version, this will no longer exclude empty or all-NA columns when determining the result dtypes. To retain the old behavior, exclude the relevant entries before the concat operation.\n",
      "  df_res = pd.concat([df_res, temp_df], ignore_index=True)\n"
     ]
    }
   ],
   "source": [
    "#преобразование данных и загрузка в новый датафрейм\n",
    "\n",
    "df_res = pd.DataFrame(columns=[\n",
    "    'регион',\n",
    "    'период', \n",
    "    'тип поселения',\n",
    "    'значение показателя', \n",
    "    'год', \n",
    "    'месяц'])\n",
    "\n",
    "#цикл по DataFrame'мам каждого листа\n",
    "for key, value in dfs.items():\n",
    "    #цикл по самому DataFrame\n",
    "    for num, lst in enumerate(data[key]):\n",
    "        #цикл по загрузке данных из каждой строки DataFrame\n",
    "        for i, v in enumerate(lst):\n",
    "            tmp = month_year[key][i].split()\n",
    "\n",
    "            # если значение пропущено или Nan, заменим на 0\n",
    "            if not isinstance(v, float):\n",
    "                v = 0\n",
    "            #изменяет 'январь 2022' на 1/1/2022\n",
    "            tmp_date = f'{month_dict[tmp[0]]}/1/{tmp[1]}'\n",
    "            \n",
    "            region_name = value.iloc[num][0].strip()\n",
    "            temp = {\n",
    "                'регион': [region_name],\n",
    "                'период': [tmp_date],\n",
    "                'тип поселения': [population_types[key][i]],\n",
    "                'значение показателя': [v],\n",
    "                'год': [tmp[1]],\n",
    "                'месяц': [tmp[0].capitalize()]}\n",
    "            temp_df = pd.DataFrame(temp)\n",
    "            df_res = pd.concat([df_res, temp_df], ignore_index=True)"
   ]
  },
  {
   "cell_type": "code",
   "execution_count": 16,
   "metadata": {},
   "outputs": [],
   "source": [
    "#заменил Nan в 'значения показателя' на 0\n",
    "df_res['значение показателя'].fillna(0, inplace=True)"
   ]
  },
  {
   "cell_type": "code",
   "execution_count": 17,
   "metadata": {},
   "outputs": [],
   "source": [
    "#с помощью контекстного менеджера подключился к бд. создал таблицу и загрузил DataFrame\n",
    "\n",
    "with sqlite3.connect('itog_db.db') as conn:\n",
    "    df_res.to_sql('table1', conn, if_exists='replace', index=False)"
   ]
  },
  {
   "cell_type": "code",
   "execution_count": 18,
   "metadata": {},
   "outputs": [],
   "source": [
    "# запрос в бд\n",
    "with sqlite3.connect('itog_db.db') as conn:\n",
    "    query = \"\"\"\n",
    "    SELECT \"год\", \"тип поселения\", ROUND(SUM(\"значение показателя\"), 3)\n",
    "    FROM table1\n",
    "    GROUP BY \"год\", \"тип поселения\"\n",
    "\"\"\"\n",
    "df_query = pd.read_sql_query(query, conn)"
   ]
  },
  {
   "cell_type": "code",
   "execution_count": 19,
   "metadata": {},
   "outputs": [
    {
     "data": {
      "text/html": [
       "<div>\n",
       "<style scoped>\n",
       "    .dataframe tbody tr th:only-of-type {\n",
       "        vertical-align: middle;\n",
       "    }\n",
       "\n",
       "    .dataframe tbody tr th {\n",
       "        vertical-align: top;\n",
       "    }\n",
       "\n",
       "    .dataframe thead th {\n",
       "        text-align: right;\n",
       "    }\n",
       "</style>\n",
       "<table border=\"1\" class=\"dataframe\">\n",
       "  <thead>\n",
       "    <tr style=\"text-align: right;\">\n",
       "      <th></th>\n",
       "      <th>год</th>\n",
       "      <th>тип поселения</th>\n",
       "      <th>ROUND(SUM(\"значение показателя\"), 3)</th>\n",
       "    </tr>\n",
       "  </thead>\n",
       "  <tbody>\n",
       "    <tr>\n",
       "      <th>0</th>\n",
       "      <td>2022</td>\n",
       "      <td>Все население</td>\n",
       "      <td>1731.18</td>\n",
       "    </tr>\n",
       "    <tr>\n",
       "      <th>1</th>\n",
       "      <td>2022</td>\n",
       "      <td>Городское население</td>\n",
       "      <td>-272.58</td>\n",
       "    </tr>\n",
       "    <tr>\n",
       "      <th>2</th>\n",
       "      <td>2022</td>\n",
       "      <td>Сельское население</td>\n",
       "      <td>287.33</td>\n",
       "    </tr>\n",
       "    <tr>\n",
       "      <th>3</th>\n",
       "      <td>2023</td>\n",
       "      <td>Все население</td>\n",
       "      <td>594.60</td>\n",
       "    </tr>\n",
       "    <tr>\n",
       "      <th>4</th>\n",
       "      <td>2023</td>\n",
       "      <td>Городское население</td>\n",
       "      <td>-1127.20</td>\n",
       "    </tr>\n",
       "    <tr>\n",
       "      <th>5</th>\n",
       "      <td>2023</td>\n",
       "      <td>Сельское население</td>\n",
       "      <td>109.80</td>\n",
       "    </tr>\n",
       "    <tr>\n",
       "      <th>6</th>\n",
       "      <td>2024</td>\n",
       "      <td>Все население</td>\n",
       "      <td>-774.60</td>\n",
       "    </tr>\n",
       "    <tr>\n",
       "      <th>7</th>\n",
       "      <td>2024</td>\n",
       "      <td>Сельское население</td>\n",
       "      <td>22.60</td>\n",
       "    </tr>\n",
       "  </tbody>\n",
       "</table>\n",
       "</div>"
      ],
      "text/plain": [
       "    год        тип поселения  ROUND(SUM(\"значение показателя\"), 3)\n",
       "0  2022        Все население                               1731.18\n",
       "1  2022  Городское население                               -272.58\n",
       "2  2022   Сельское население                                287.33\n",
       "3  2023        Все население                                594.60\n",
       "4  2023  Городское население                              -1127.20\n",
       "5  2023   Сельское население                                109.80\n",
       "6  2024        Все население                               -774.60\n",
       "7  2024   Сельское население                                 22.60"
      ]
     },
     "execution_count": 19,
     "metadata": {},
     "output_type": "execute_result"
    }
   ],
   "source": [
    "df_query"
   ]
  },
  {
   "cell_type": "code",
   "execution_count": 20,
   "metadata": {},
   "outputs": [],
   "source": [
    "# загрузил датафрейм с запросом в csv файл\n",
    "df_query.to_csv('itog_csv.csv')"
   ]
  },
  {
   "cell_type": "code",
   "execution_count": 21,
   "metadata": {},
   "outputs": [],
   "source": [
    "df=pd.read_csv('itog_csv.csv')"
   ]
  },
  {
   "cell_type": "code",
   "execution_count": 22,
   "metadata": {},
   "outputs": [
    {
     "data": {
      "text/html": [
       "<div>\n",
       "<style scoped>\n",
       "    .dataframe tbody tr th:only-of-type {\n",
       "        vertical-align: middle;\n",
       "    }\n",
       "\n",
       "    .dataframe tbody tr th {\n",
       "        vertical-align: top;\n",
       "    }\n",
       "\n",
       "    .dataframe thead th {\n",
       "        text-align: right;\n",
       "    }\n",
       "</style>\n",
       "<table border=\"1\" class=\"dataframe\">\n",
       "  <thead>\n",
       "    <tr style=\"text-align: right;\">\n",
       "      <th></th>\n",
       "      <th>Unnamed: 0</th>\n",
       "      <th>год</th>\n",
       "      <th>тип поселения</th>\n",
       "      <th>ROUND(SUM(\"значение показателя\"), 3)</th>\n",
       "    </tr>\n",
       "  </thead>\n",
       "  <tbody>\n",
       "    <tr>\n",
       "      <th>0</th>\n",
       "      <td>0</td>\n",
       "      <td>2022</td>\n",
       "      <td>Все население</td>\n",
       "      <td>1731.18</td>\n",
       "    </tr>\n",
       "    <tr>\n",
       "      <th>1</th>\n",
       "      <td>1</td>\n",
       "      <td>2022</td>\n",
       "      <td>Городское население</td>\n",
       "      <td>-272.58</td>\n",
       "    </tr>\n",
       "    <tr>\n",
       "      <th>2</th>\n",
       "      <td>2</td>\n",
       "      <td>2022</td>\n",
       "      <td>Сельское население</td>\n",
       "      <td>287.33</td>\n",
       "    </tr>\n",
       "    <tr>\n",
       "      <th>3</th>\n",
       "      <td>3</td>\n",
       "      <td>2023</td>\n",
       "      <td>Все население</td>\n",
       "      <td>594.60</td>\n",
       "    </tr>\n",
       "    <tr>\n",
       "      <th>4</th>\n",
       "      <td>4</td>\n",
       "      <td>2023</td>\n",
       "      <td>Городское население</td>\n",
       "      <td>-1127.20</td>\n",
       "    </tr>\n",
       "    <tr>\n",
       "      <th>5</th>\n",
       "      <td>5</td>\n",
       "      <td>2023</td>\n",
       "      <td>Сельское население</td>\n",
       "      <td>109.80</td>\n",
       "    </tr>\n",
       "    <tr>\n",
       "      <th>6</th>\n",
       "      <td>6</td>\n",
       "      <td>2024</td>\n",
       "      <td>Все население</td>\n",
       "      <td>-774.60</td>\n",
       "    </tr>\n",
       "    <tr>\n",
       "      <th>7</th>\n",
       "      <td>7</td>\n",
       "      <td>2024</td>\n",
       "      <td>Сельское население</td>\n",
       "      <td>22.60</td>\n",
       "    </tr>\n",
       "  </tbody>\n",
       "</table>\n",
       "</div>"
      ],
      "text/plain": [
       "   Unnamed: 0   год        тип поселения  ROUND(SUM(\"значение показателя\"), 3)\n",
       "0           0  2022        Все население                               1731.18\n",
       "1           1  2022  Городское население                               -272.58\n",
       "2           2  2022   Сельское население                                287.33\n",
       "3           3  2023        Все население                                594.60\n",
       "4           4  2023  Городское население                              -1127.20\n",
       "5           5  2023   Сельское население                                109.80\n",
       "6           6  2024        Все население                               -774.60\n",
       "7           7  2024   Сельское население                                 22.60"
      ]
     },
     "execution_count": 22,
     "metadata": {},
     "output_type": "execute_result"
    }
   ],
   "source": [
    "df"
   ]
  }
 ],
 "metadata": {
  "kernelspec": {
   "display_name": "base",
   "language": "python",
   "name": "python3"
  },
  "language_info": {
   "codemirror_mode": {
    "name": "ipython",
    "version": 3
   },
   "file_extension": ".py",
   "mimetype": "text/x-python",
   "name": "python",
   "nbconvert_exporter": "python",
   "pygments_lexer": "ipython3",
   "version": "3.11.7"
  }
 },
 "nbformat": 4,
 "nbformat_minor": 2
}
